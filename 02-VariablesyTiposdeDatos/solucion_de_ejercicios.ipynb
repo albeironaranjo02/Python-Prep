{
 "cells": [
  {
   "attachments": {},
   "cell_type": "markdown",
   "metadata": {},
   "source": [
    "# Variables\n",
    "\n",
    "1) Crear una variable que contenga un elemento del conjunto de números enteros y luego imprimir por pantalla\n",
    "\n"
   ]
  },
  {
   "cell_type": "code",
   "execution_count": 1,
   "metadata": {},
   "outputs": [
    {
     "name": "stdout",
     "output_type": "stream",
     "text": [
      "10\n"
     ]
    }
   ],
   "source": [
    "a=10\n",
    "print(a)"
   ]
  },
  {
   "cell_type": "markdown",
   "metadata": {},
   "source": [
    "\n",
    "\n",
    "2) Imprimir el tipo de dato de la constante 8.5\n",
    "\n",
    "3) Imprimir el tipo de dato de la variable creada en el punto 1\n",
    "\n",
    "4) Crear una variable que contenga tu nombre\n",
    "\n",
    "5) Crear una variable que contenga un número complejo\n",
    "\n",
    "6) Mostrar el tipo de dato de la variable crada en el punto 5\n",
    "\n",
    "7) Crear una variable que contenga el valor del número Pi redondeado a 4 decimales\n",
    "\n",
    "8) Crear una variable que contenga el valor 'True' y otra que contenga el valor True. ¿Se trata de lo mismo?\n",
    "\n",
    "9) Imprimir el tipo de dato correspondientes a las variables creadas en el punto 8\n",
    "\n",
    "10) Asignar a una variable, la suma de un número entero y otro decimal\n",
    "\n",
    "11) Realizar una operación de suma de números complejos\n",
    "\n",
    "12) Realizar una operación de suma de un número real y otro complejo\n",
    "\n",
    "13) Realizar una operación de multiplicación\n",
    "\n",
    "14) Mostrar el resultado de elevar 2 a la octava potencia\n",
    "\n",
    "15) Obtener el cociente de la división de 27 entre 4 en una variable y luego mostrarla\n",
    "\n",
    "16) De la división anterior solamente mostrar la parte entera\n",
    "\n",
    "17) De la división de 27 entre 4 mostrar solamente el resto\n",
    "\n",
    "18) Utilizando como operandos el número 4 y los resultados obtenidos en los puntos 16 y 17. Obtener 27 como resultado\n",
    "\n",
    "19) Utilizar el operador \"+\" en una operación donde intervengan solo variables alfanuméricas\n",
    "\n",
    "20) Evaluar si \"2\" es igual a 2. ¿Por qué ocurre eso?"
   ]
  }
 ],
 "metadata": {
  "kernelspec": {
   "display_name": "Python 3",
   "language": "python",
   "name": "python3"
  },
  "language_info": {
   "codemirror_mode": {
    "name": "ipython",
    "version": 3
   },
   "file_extension": ".py",
   "mimetype": "text/x-python",
   "name": "python",
   "nbconvert_exporter": "python",
   "pygments_lexer": "ipython3",
   "version": "3.11.2"
  },
  "orig_nbformat": 4
 },
 "nbformat": 4,
 "nbformat_minor": 2
}
